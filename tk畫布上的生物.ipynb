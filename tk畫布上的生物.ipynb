{
 "cells": [
  {
   "cell_type": "code",
   "execution_count": 6,
   "metadata": {
    "collapsed": true
   },
   "outputs": [],
   "source": [
    "import tkinter as tk"
   ]
  },
  {
   "cell_type": "markdown",
   "metadata": {},
   "source": [
    "# 基礎：正方形直線來回移動"
   ]
  },
  {
   "cell_type": "code",
   "execution_count": 9,
   "metadata": {
    "collapsed": true
   },
   "outputs": [],
   "source": [
    "root = tk.Tk()\n",
    "root.title('哈囉！這裡是畫布實驗')\n",
    "w, h = root.maxsize()\n",
    "\n",
    "c = tk.Canvas(root, width=w, height=h)\n",
    "c.pack()\n",
    "pos = [0,0]\n",
    "x_speed, y_speed = 15, 15"
   ]
  },
  {
   "cell_type": "code",
   "execution_count": 10,
   "metadata": {},
   "outputs": [
    {
     "name": "stdout",
     "output_type": "stream",
     "text": [
      "當視窗迴圈結束，這行就會印出來＋Ｗ＋\n"
     ]
    }
   ],
   "source": [
    "# 畫正方形來回移動\n",
    "def update():\n",
    "    global pos, c, speed, x_speed, y_speed\n",
    "    if pos[0] > w//2 and pos[1] > h//2:\n",
    "        x_speed, y_speed = -10,-10\n",
    "    elif pos[0] < 0 and pos[1] < 0:\n",
    "        x_speed, y_speed = 10, 10\n",
    "    pos[0] += x_speed\n",
    "    pos[1] += y_speed\n",
    "    c.delete(\"all\")\n",
    "    c.create_rectangle(pos[0], pos[1], pos[0]+10, pos[1]+10, fill='blue')\n",
    "#     print(c.winfo_width(), c.winfo_height())\n",
    "    root.after(10, update)\n",
    "\n",
    "root.after(10, update)\n",
    "\n",
    "root.geometry('{}x{}'.format(w, h))\n",
    "root.mainloop()\n",
    "\n",
    "print('當視窗迴圈結束，這行就會印出來＋Ｗ＋') "
   ]
  },
  {
   "cell_type": "markdown",
   "metadata": {},
   "source": [
    "# 定義一個方形生物類別，並且實作他只能在特定區域隨機移動"
   ]
  },
  {
   "cell_type": "code",
   "execution_count": 19,
   "metadata": {
    "collapsed": true
   },
   "outputs": [],
   "source": [
    "import tkinter as tk\n",
    "import random\n",
    "from operator import add"
   ]
  },
  {
   "cell_type": "code",
   "execution_count": 20,
   "metadata": {},
   "outputs": [],
   "source": [
    "class SquareOrganism:\n",
    "    \"\"\"\n",
    "        這是一個可以在tkinter的canvas移動的方型生物類別\n",
    "    \"\"\"\n",
    "    TK_COLOR = [\"white\", \"black\", \"red\", \"green\", \"blue\", \"cyan\", \"yellow\", \"magenta\"]\n",
    "    \n",
    "    def __init__(self, canvas, pos=[0,0], speed=15, size=10, \n",
    "                color=None):\n",
    "        print('one obj init')\n",
    "        self.canvas = canvas\n",
    "        self.pos = pos\n",
    "        self.speed = speed\n",
    "        self.size = size\n",
    "        if color is None:\n",
    "            self.color = random.choice(self.TK_COLOR)\n",
    "        else:\n",
    "            self.color = color\n",
    "        self._direction = [1,0]\n",
    "        \n",
    "    def getPos(self):\n",
    "        return self.pos\n",
    "    \n",
    "    def setPos(self, pos):\n",
    "        self.pos = pos\n",
    "        \n",
    "    def stillInCanvas(self, new_obj_pos):\n",
    "        obj_x, obj_y = new_obj_pos\n",
    "        x1, y1 = 0, 0\n",
    "        x2, y2 = self.canvas.winfo_width(), self.canvas.winfo_height()\n",
    "        if obj_x >= x1 and \\\n",
    "            obj_y >= y1 and \\\n",
    "            obj_x + self.size <= x2 and \\\n",
    "            obj_y + self.size <= y2:\n",
    "            return True\n",
    "        return False\n",
    "                 \n",
    "    def easyMove(self):\n",
    "        x2= self.pos[0] + self.size\n",
    "        y2 = self.pos[1] + self.size\n",
    "        \n",
    "        # 移動速度\n",
    "        speed = self.speed\n",
    "        \n",
    "        # 移動方向\n",
    "        direction = self._direction\n",
    "        \n",
    "        # 移動向量 = spped * direction\n",
    "        move_vector = [speed * i for i in direction]\n",
    "            \n",
    "        # 如果加上移動向量的位置會超出Canvas外，則改變移動方向！！\n",
    "        while random.random() > 0.7 or \\\n",
    "            not self.stillInCanvas(list(map(add, self.pos, move_vector))):\n",
    "            direction = [random.randint(-1,1), random.randint(-1,1)]\n",
    "            move_vector = [speed * i for i in direction]\n",
    "            \n",
    "        # 實際轉變位置\n",
    "        self._direction = direction\n",
    "        self.pos = list(map(add, self.pos, move_vector))\n",
    "    \n",
    "    def draw(self):\n",
    "        c = self.canvas\n",
    "        pos = self.pos\n",
    "        c.create_rectangle(pos[0], pos[1], pos[0]+10, pos[1]+10, fill=self.color)       "
   ]
  },
  {
   "cell_type": "code",
   "execution_count": 21,
   "metadata": {},
   "outputs": [
    {
     "name": "stdout",
     "output_type": "stream",
     "text": [
      "one obj init\n",
      "one obj init\n",
      "one obj init\n",
      "one obj init\n",
      "one obj init\n",
      "one obj init\n",
      "one obj init\n",
      "one obj init\n",
      "one obj init\n",
      "one obj init\n",
      "one obj init\n",
      "one obj init\n",
      "one obj init\n",
      "one obj init\n",
      "one obj init\n",
      "one obj init\n",
      "one obj init\n",
      "one obj init\n",
      "one obj init\n",
      "one obj init\n",
      "當視窗迴圈結束，這行就會印出來＋Ｗ＋\n"
     ]
    }
   ],
   "source": [
    "\n",
    "if __name__ == '__main__':\n",
    "    root = tk.Tk()\n",
    "    root.title('哈囉！這裡是方型生物實驗')\n",
    "    w, h = root.maxsize()\n",
    "    root.geometry('{}x{}'.format(w, h))\n",
    "\n",
    "\n",
    "    c = tk.Canvas(root, width=w, height=h)\n",
    "    c.pack()\n",
    "    \n",
    "    # 建立一個串列，等等用來添加方形生物的實例\n",
    "    objs = []\n",
    "    \n",
    "    \n",
    "    def init():\n",
    "        global obj\n",
    "        for i in range(20):\n",
    "            objs.append(SquareOrganism(canvas=c))\n",
    "        root.after(10, update)\n",
    "        \n",
    "    def update():\n",
    "        global c, obj\n",
    "        c.delete(\"all\")\n",
    "        for obj in objs:\n",
    "            obj.easyMove()\n",
    "            obj.draw()\n",
    "        root.after(10, update)\n",
    "\n",
    "    \n",
    "    root.after(1000, init)\n",
    "    root.mainloop()\n",
    "\n",
    "print('當視窗迴圈結束，這行就會印出來＋Ｗ＋') "
   ]
  },
  {
   "cell_type": "code",
   "execution_count": null,
   "metadata": {
    "collapsed": true
   },
   "outputs": [],
   "source": []
  }
 ],
 "metadata": {
  "kernelspec": {
   "display_name": "Python [conda env:py35]",
   "language": "python",
   "name": "conda-env-py35-py"
  },
  "language_info": {
   "codemirror_mode": {
    "name": "ipython",
    "version": 3
   },
   "file_extension": ".py",
   "mimetype": "text/x-python",
   "name": "python",
   "nbconvert_exporter": "python",
   "pygments_lexer": "ipython3",
   "version": "3.5.4"
  }
 },
 "nbformat": 4,
 "nbformat_minor": 2
}
